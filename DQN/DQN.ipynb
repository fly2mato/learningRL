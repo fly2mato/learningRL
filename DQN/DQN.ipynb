{
 "cells": [
  {
   "cell_type": "code",
   "execution_count": 1,
   "metadata": {},
   "outputs": [],
   "source": [
    "import tensorflow as tf\n",
    "import numpy as np\n",
    "import gym\n",
    "from gym.spaces import Box, Discrete\n",
    "from tqdm import tqdm\n",
    "import matplotlib.pyplot as plt\n",
    "import seaborn as sns"
   ]
  },
  {
   "cell_type": "code",
   "execution_count": 2,
   "metadata": {},
   "outputs": [],
   "source": [
    "class ReplayBuffer(object):\n",
    "    \"\"\"\n",
    "    A simple FIFO experience replay buffer for all agents.\n",
    "    \"\"\"\n",
    "\n",
    "    def __init__(self, obs_dim, size):\n",
    "        self.obs1_buf = np.zeros([size, obs_dim], dtype=np.float32)\n",
    "        self.obs2_buf = np.zeros([size, obs_dim], dtype=np.float32)\n",
    "        self.acts_buf = np.zeros(size, dtype=np.float32)\n",
    "        self.rews_buf = np.zeros(size, dtype=np.float32)\n",
    "        self.done_buf = np.zeros(size, dtype=np.float32)\n",
    "        self.ptr, self.size, self.max_size = 0, 0, size\n",
    "\n",
    "    def store(self, obs, act, rew, next_obs, done):\n",
    "        self.obs1_buf[self.ptr] = obs\n",
    "        self.obs2_buf[self.ptr] = next_obs\n",
    "        self.acts_buf[self.ptr] = act\n",
    "        self.rews_buf[self.ptr] = rew\n",
    "        self.done_buf[self.ptr] = done\n",
    "        self.ptr = (self.ptr+1) % self.max_size\n",
    "        self.size = min(self.size+1, self.max_size)\n",
    "\n",
    "    def sample_batch(self, batch_size=32):\n",
    "        idxs = np.random.randint(0, self.size, size=batch_size)\n",
    "        return dict(obs1=self.obs1_buf[idxs],\n",
    "                    obs2=self.obs2_buf[idxs],\n",
    "                    acts=self.acts_buf[idxs],\n",
    "                    rews=self.rews_buf[idxs],\n",
    "                    done=self.done_buf[idxs])"
   ]
  },
  {
   "cell_type": "code",
   "execution_count": 3,
   "metadata": {},
   "outputs": [],
   "source": [
    "\"\"\"\n",
    "Actor-Critics\n",
    "\"\"\"\n",
    "def mlp(x, hidden_sizes=(32,), activation=tf.tanh, output_activation=None):\n",
    "    for h in hidden_sizes[:-1]:\n",
    "        x = tf.layers.dense(x, units=h, activation=activation)\n",
    "    return tf.layers.dense(x, units=hidden_sizes[-1], activation=output_activation)\n",
    "\n",
    "\n",
    "def mlp_categorical_policy(x, a, act_dim, hidden_sizes, activation=tf.tanh, output_activation=None):\n",
    "    qvalue = mlp(x, list(hidden_sizes)+[act_dim], activation, output_activation)\n",
    "    pi = tf.argmax(qvalue,1)\n",
    "    #index = tf.stack([tf.range(tf.shape(a)[0]), a], axis=1)\n",
    "    #q_sa = tf.gather_nd(qvalue, index)\n",
    "    q_sa = tf.reduce_sum(tf.one_hot(a, act_dim) * qvalue, axis=1)\n",
    "    \n",
    "    qmax = tf.reduce_max(qvalue, axis=1)\n",
    "    return pi, q_sa, qmax"
   ]
  },
  {
   "cell_type": "code",
   "execution_count": 4,
   "metadata": {},
   "outputs": [],
   "source": [
    "def get_vars(scope):\n",
    "    return [x for x in tf.global_variables() if scope in x.name]"
   ]
  },
  {
   "cell_type": "code",
   "execution_count": null,
   "metadata": {},
   "outputs": [],
   "source": []
  },
  {
   "cell_type": "code",
   "execution_count": 5,
   "metadata": {},
   "outputs": [],
   "source": [
    "class DQN(object):\n",
    "    #离散动作空间\n",
    "    def __init__(self, **kwargs):\n",
    "        self.init_hyperparameters(**kwargs)\n",
    "        self.replay_buffer = ReplayBuffer(obs_dim=self.obs_dim, size=self.hyperparameters['replay_size'])\n",
    "        self.init_algorithm()\n",
    "        pass\n",
    "    \n",
    "    def init_hyperparameters(self, **kwargs):\n",
    "        self.hyperparameters = dict(env='CartPole-v0', seed=0, epochs=100, step_per_epoch=5000, replay_size=int(1e6), \n",
    "                                   gamma=0.99, batch_size=100, max_ep_len=1000, act_noise=0.1, lr=1e-3, epsilon=0.1,\n",
    "                                   hidden_sizes = (40,))\n",
    "        \n",
    "        for param in kwargs:\n",
    "            self.hyperparameters[param] = kwargs[param]\n",
    "            \n",
    "        self.env = gym.make(self.hyperparameters['env'])\n",
    "        self.obs_dim = self.env.observation_space.shape[0]\n",
    "        self.act_dim = self.env.action_space.n if isinstance(self.env.action_space, Discrete) else self.env.action_space.shape[0]\n",
    "        \n",
    "        tf.set_random_seed(self.hyperparameters['seed'])\n",
    "        np.random.seed(self.hyperparameters['seed'])\n",
    "        self.env.seed(self.hyperparameters['seed'])\n",
    "        \n",
    "        self.mean_rew = []\n",
    "        \n",
    "    def init_algorithm(self):\n",
    "        #算法初始化，包括网络初始化\n",
    "        self.s_ph = tf.placeholder(dtype=tf.float32, shape=[None, self.obs_dim])\n",
    "        self.s2_ph = tf.placeholder(dtype=tf.float32, shape=[None, self.obs_dim])\n",
    "        self.a_ph = tf.placeholder(dtype=tf.int32, shape=[None, ])\n",
    "        self.r_ph = tf.placeholder(dtype=tf.float32, shape=[None,])\n",
    "        self.d_ph = tf.placeholder(dtype=tf.float32, shape=[None,])\n",
    "        \n",
    "        with tf.variable_scope('value'):\n",
    "            #采样，优化目标\n",
    "            self.pi, self.q_sa, _ = mlp_categorical_policy(self.s_ph, self.a_ph, hidden_sizes=self.hyperparameters['hidden_sizes'],\n",
    "                                                           activation=tf.tanh, act_dim=self.act_dim)\n",
    "            \n",
    "            \n",
    "        with tf.variable_scope('target'):\n",
    "            #计算y，缓慢更新\n",
    "            _, _, self.qmax = mlp_categorical_policy(self.s2_ph, self.a_ph, hidden_sizes=self.hyperparameters['hidden_sizes'], \n",
    "                                                     activation=tf.tanh, act_dim=self.act_dim)\n",
    "        \n",
    "        self.y = tf.stop_gradient(self.r_ph + self.hyperparameters['gamma'] * (1-self.d_ph) * self.qmax)\n",
    "        self.loss = tf.reduce_mean(tf.squared_difference(self.y, self.q_sa))\n",
    "        self.train_loss = tf.train.AdamOptimizer(learning_rate=self.hyperparameters['lr']).minimize(self.loss)\n",
    "        \n",
    "        self.target_copy = tf.group([tf.assign(v_target, v_value)\n",
    "                              for v_value, v_target in zip(get_vars('value'), get_vars('target'))])\n",
    "        \n",
    "        self.sess = tf.Session()\n",
    "        self.sess.run(tf.global_variables_initializer())\n",
    "        self.sess.run(self.target_copy)\n",
    "        \n",
    "        \n",
    "        \n",
    "    \n",
    "    def get_action(self, s):\n",
    "        if (np.random.binomial(1, self.hyperparameters['epsilon'])):\n",
    "            a = self.env.action_space.sample()\n",
    "        else :\n",
    "            a = self.sess.run(self.pi, feed_dict={self.s_ph:s.reshape([1,-1])})[0]\n",
    "        return a\n",
    "    \n",
    "    def run(self):\n",
    "        total_steps = self.hyperparameters['epochs'] * self.hyperparameters['step_per_epoch']\n",
    "        s = self.env.reset()\n",
    "        sum_rew = 0.0\n",
    "        sum_epoch = 0.0\n",
    "        \n",
    "        n_epoch = 0\n",
    "        n_episode = 0\n",
    "        n_step = 0\n",
    "        for t in tqdm(range(total_steps)):\n",
    "            a = self.get_action(s)\n",
    "            s_, r, d, _ = self.env.step(a)\n",
    "            self.replay_buffer.store(s, a, r, s_, d)\n",
    "            s = s_\n",
    "            sum_rew += r\n",
    "            n_step += 1\n",
    "            \n",
    "            if (d or n_step > self.hyperparameters['max_ep_len']):\n",
    "                sum_epoch += sum_rew\n",
    "                sum_rew = 0.0\n",
    "                n_episode += 1\n",
    "                n_step = 0\n",
    "                s = self.env.reset()\n",
    "                \n",
    "                self.update()\n",
    "                if (t // self.hyperparameters['step_per_epoch'] > n_epoch):\n",
    "                    n_epoch+=1\n",
    "                    self.sess.run(self.target_copy)\n",
    "                    \n",
    "                    self.mean_rew.append(sum_epoch/n_episode)\n",
    "                    sum_epoch = 0\n",
    "                    n_episode = 0\n",
    "                    \n",
    "            \n",
    "        pass\n",
    "    \n",
    "    def update(self):\n",
    "        samples = self.replay_buffer.sample_batch(self.hyperparameters['batch_size'])\n",
    "        feed_dict = {self.s_ph:samples['obs1'],\n",
    "                     self.s2_ph:samples['obs2'],\n",
    "                     self.a_ph:samples['acts'],\n",
    "                     self.r_ph:samples['rews'],\n",
    "                     self.d_ph:samples['done']\n",
    "                    }\n",
    "        \n",
    "        self.sess.run(self.train_loss, feed_dict=feed_dict)\n",
    "    \n",
    "    def show_result(self):\n",
    "        plt.figure()\n",
    "        plt.plot(np.arange(len(self.mean_rew)), self.mean_rew)       \n",
    "    \n",
    "    \n",
    "            "
   ]
  },
  {
   "cell_type": "code",
   "execution_count": 6,
   "metadata": {},
   "outputs": [
    {
     "name": "stderr",
     "output_type": "stream",
     "text": [
      "100%|██████████| 500000/500000 [01:27<00:00, 5730.92it/s]\n"
     ]
    }
   ],
   "source": [
    "\n",
    "\n",
    "agent = DQN(env='CartPole-v0')#, epochs=50)#, step_per_epoch=1000, max_ep_len=500)\n",
    "#env='CartPole-v0', seed=0, epochs=100, step_per_epoch=5000, replay_size=int(1e6), \n",
    "#                                   gamma=0.99, batch_size=100, max_ep_len=1000, act_noise=0.1, lr=1e-3, epsilon=0.1,\n",
    "#                                   hidden_sizes = (40,)\n",
    "\n",
    "agent.run()"
   ]
  },
  {
   "cell_type": "code",
   "execution_count": 7,
   "metadata": {},
   "outputs": [
    {
     "data": {
      "image/png": "[encoded data removed]",
      "text/plain": [
       "<matplotlib.figure.Figure at 0x7f9695be89b0>"
      ]
     },
     "metadata": {},
     "output_type": "display_data"
    }
   ],
   "source": [
    "agent.show_result()\n",
    "#plt.ylim([0, 1000])"
   ]
  },
  {
   "cell_type": "code",
   "execution_count": null,
   "metadata": {},
   "outputs": [],
   "source": []
  },
  {
   "cell_type": "code",
   "execution_count": 6,
   "metadata": {},
   "outputs": [
    {
     "name": "stderr",
     "output_type": "stream",
     "text": [
      "100%|██████████| 500000/500000 [01:27<00:00, 5730.46it/s]\n"
     ]
    },
    {
     "data": {
      "image/png": "[encoded data removed]",
      "text/plain": [
       "<matplotlib.figure.Figure at 0x7f59cd93a6d8>"
      ]
     },
     "metadata": {},
     "output_type": "display_data"
    }
   ],
   "source": [
    "agent2 = DQN(env='CartPole-v0')#, epochs=50)#, step_per_epoch=1000, max_ep_len=500)\n",
    "#env='CartPole-v0', seed=0, epochs=100, step_per_epoch=5000, replay_size=int(1e6), \n",
    "#                                   gamma=0.99, batch_size=100, max_ep_len=1000, act_noise=0.1, lr=1e-3, epsilon=0.1,\n",
    "#                                   hidden_sizes = (40,)\n",
    "\n",
    "agent2.run()\n",
    "agent2.show_result()"
   ]
  },
  {
   "cell_type": "code",
   "execution_count": null,
   "metadata": {},
   "outputs": [],
   "source": []
  },
  {
   "cell_type": "code",
   "execution_count": 7,
   "metadata": {},
   "outputs": [],
   "source": [
    "##test\n",
    "\n",
    "env1 = gym.make('CartPole-v0')\n",
    "env2 = gym.make('HalfCheetah-v2')"
   ]
  },
  {
   "cell_type": "code",
   "execution_count": 12,
   "metadata": {},
   "outputs": [
    {
     "data": {
      "text/plain": [
       "Box(6,)"
      ]
     },
     "execution_count": 12,
     "metadata": {},
     "output_type": "execute_result"
    }
   ],
   "source": [
    "env2.action_space"
   ]
  },
  {
   "cell_type": "code",
   "execution_count": 13,
   "metadata": {},
   "outputs": [
    {
     "data": {
      "text/plain": [
       "array([ 0.43037874,  0.20552675,  0.08976637, -0.1526904 ,  0.29178822,\n",
       "       -0.12482557], dtype=float32)"
      ]
     },
     "execution_count": 13,
     "metadata": {},
     "output_type": "execute_result"
    }
   ],
   "source": [
    "env2.action_space.sample()"
   ]
  },
  {
   "cell_type": "code",
   "execution_count": 10,
   "metadata": {},
   "outputs": [
    {
     "data": {
      "text/plain": [
       "1"
      ]
     },
     "execution_count": 10,
     "metadata": {},
     "output_type": "execute_result"
    }
   ],
   "source": [
    "env1.action_space.sample()"
   ]
  },
  {
   "cell_type": "code",
   "execution_count": 28,
   "metadata": {},
   "outputs": [
    {
     "data": {
      "text/plain": [
       "1.0"
      ]
     },
     "execution_count": 28,
     "metadata": {},
     "output_type": "execute_result"
    }
   ],
   "source": [
    "env2.action_space.high[0]"
   ]
  },
  {
   "cell_type": "code",
   "execution_count": null,
   "metadata": {},
   "outputs": [],
   "source": [
    "#离散动作空间/连续动作空间 "
   ]
  },
  {
   "cell_type": "code",
   "execution_count": null,
   "metadata": {},
   "outputs": [],
   "source": []
  },
  {
   "cell_type": "code",
   "execution_count": null,
   "metadata": {},
   "outputs": [],
   "source": []
  },
  {
   "cell_type": "code",
   "execution_count": null,
   "metadata": {},
   "outputs": [],
   "source": []
  },
  {
   "cell_type": "code",
   "execution_count": null,
   "metadata": {},
   "outputs": [],
   "source": []
  },
  {
   "cell_type": "code",
   "execution_count": 1,
   "metadata": {},
   "outputs": [],
   "source": [
    "import tensorflow as tf\n",
    "import numpy as np\n",
    "testx = tf.get_variable(name='testx', initializer=[[1,2,3],[2,3,1],[0,1,3],[4,5,6]])\n",
    "#testx = tf.Variable([[1,2,3],[2,3,1],[0,1,3],[4,5,6]])"
   ]
  },
  {
   "cell_type": "code",
   "execution_count": 19,
   "metadata": {},
   "outputs": [
    {
     "name": "stdout",
     "output_type": "stream",
     "text": [
      "[[0 0]\n",
      " [1 1]\n",
      " [2 2]\n",
      " [3 1]]\n",
      "==========\n",
      "[[1 2 3]\n",
      " [2 3 1]\n",
      " [0 1 3]\n",
      " [4 5 6]]\n",
      "[1 3 3 5]\n"
     ]
    }
   ],
   "source": [
    "index_col = np.array([0,1,2,1]).reshape([-1,1])\n",
    "index = np.hstack([np.arange(4).reshape([-1,1]), index_col])\n",
    "print(index)\n",
    "#index = \n",
    "y = tf.gather_nd(testx, index.tolist())\n",
    "print('='*10)\n",
    "with tf.Session() as sess:\n",
    "    sess.run(tf.global_variables_initializer())\n",
    "    print(sess.run(testx))\n",
    "    print(sess.run(y))"
   ]
  },
  {
   "cell_type": "code",
   "execution_count": 5,
   "metadata": {},
   "outputs": [
    {
     "data": {
      "text/plain": [
       "array([[0],\n",
       "       [1],\n",
       "       [2],\n",
       "       [1]])"
      ]
     },
     "execution_count": 5,
     "metadata": {},
     "output_type": "execute_result"
    }
   ],
   "source": [
    "np.array([0,1,2,1]).reshape([-1,1])"
   ]
  },
  {
   "cell_type": "code",
   "execution_count": 25,
   "metadata": {},
   "outputs": [
    {
     "data": {
      "text/plain": [
       "array([1, 0, 0, 0, 0, 0, 1, 0, 0, 0])"
      ]
     },
     "execution_count": 25,
     "metadata": {},
     "output_type": "execute_result"
    }
   ],
   "source": [
    "np.random.binomial(1, 0.1,10)"
   ]
  },
  {
   "cell_type": "code",
   "execution_count": 18,
   "metadata": {},
   "outputs": [
    {
     "name": "stdout",
     "output_type": "stream",
     "text": [
      "[1 3 4 5]\n",
      "[0 1 2 3]\n",
      "[[0 1]\n",
      " [1 3]\n",
      " [2 4]\n",
      " [3 5]]\n"
     ]
    }
   ],
   "source": [
    "import tensorflow as tf\n",
    "import numpy as np\n",
    "a = np.array([1,3,4,5])\n",
    "xa = tf.Variable(a, dtype=tf.int32)\n",
    "y = tf.range(tf.shape(a)[0], dtype=tf.int32)\n",
    "yy = tf.stack([y,xa], axis=1)\n",
    "with tf.Session() as sess:\n",
    "    sess.run(tf.global_variables_initializer())\n",
    "    print(sess.run(xa))\n",
    "    print(sess.run(y))\n",
    "    print(sess.run(yy))\n"
   ]
  },
  {
   "cell_type": "code",
   "execution_count": null,
   "metadata": {},
   "outputs": [],
   "source": []
  },
  {
   "cell_type": "code",
   "execution_count": 14,
   "metadata": {},
   "outputs": [
    {
     "name": "stdout",
     "output_type": "stream",
     "text": [
      "[ 1.  3.  4.  5.]\n"
     ]
    }
   ],
   "source": [
    "import tensorflow as tf\n",
    "import numpy as np\n",
    "a = np.array([1,3,4,5]).reshape([-1,1])\n",
    "xa = tf.Variable(a, dtype=np.float32)\n",
    "y = tf.reduce_sum(xa, axis=1)\n",
    "with tf.Session() as sess:\n",
    "    sess.run(tf.global_variables_initializer())\n",
    "    print(sess.run(y))\n"
   ]
  },
  {
   "cell_type": "code",
   "execution_count": null,
   "metadata": {},
   "outputs": [],
   "source": []
  }
 ],
 "metadata": {
  "kernelspec": {
   "display_name": "Python 3",
   "language": "python",
   "name": "python3"
  },
  "language_info": {
   "codemirror_mode": {
    "name": "ipython",
    "version": 3
   },
   "file_extension": ".py",
   "mimetype": "text/x-python",
   "name": "python",
   "nbconvert_exporter": "python",
   "pygments_lexer": "ipython3",
   "version": "3.6.4"
  }
 },
 "nbformat": 4,
 "nbformat_minor": 2
}
